{
 "cells": [
  {
   "cell_type": "code",
   "execution_count": 23,
   "id": "43498919",
   "metadata": {},
   "outputs": [],
   "source": [
    "import random\n",
    "import matplotlib.pyplot as plt\n",
    "import numpy as np\n",
    "from sklearn.neighbors import KNeighborsClassifier"
   ]
  },
  {
   "cell_type": "code",
   "execution_count": 24,
   "id": "ceff72d5",
   "metadata": {},
   "outputs": [],
   "source": [
    "from mnist import MNIST\n",
    "\n",
    "mndata = MNIST(r\"C:\\Users\\Kacper\\sample\")\n",
    "\n",
    "digits, labels = mndata.load_training()\n",
    "digits_train=np.array(digits).astype(\"float64\")\n",
    "digits_label_train=np.array(labels)\n",
    "digits_test,digits_label_test= mndata.load_testing()\n",
    "digits_test=np.array(digits_test).astype(\"float64\")\n",
    "digits_label_test=np.array(digits_label_test)"
   ]
  },
  {
   "cell_type": "code",
   "execution_count": 25,
   "id": "516df654",
   "metadata": {},
   "outputs": [
    {
     "name": "stdout",
     "output_type": "stream",
     "text": [
      "float64\n"
     ]
    }
   ],
   "source": [
    "print(digits_test.dtype)"
   ]
  },
  {
   "cell_type": "code",
   "execution_count": 26,
   "id": "27a2e78b",
   "metadata": {},
   "outputs": [
    {
     "name": "stdout",
     "output_type": "stream",
     "text": [
      "<class 'numpy.ndarray'>\n"
     ]
    }
   ],
   "source": [
    "print(type(digits_test))"
   ]
  },
  {
   "cell_type": "code",
   "execution_count": 47,
   "id": "4117b032",
   "metadata": {},
   "outputs": [
    {
     "name": "stdout",
     "output_type": "stream",
     "text": [
      "CPU Execution time: 60.859375 seconds\n"
     ]
    }
   ],
   "source": [
    "import time\n",
    "\n",
    "# get the start time\n",
    "st = time.process_time()\n",
    "\n",
    "neigh = KNeighborsClassifier(n_neighbors=1,algorithm=\"brute\")\n",
    "neigh.fit(digits_train,digits_label_train)\n",
    "y_dash= neigh.predict(digits_test)\n",
    "\n",
    "# wait for 3 seconds\n",
    "time.sleep(1)\n",
    "\n",
    "# get the end time\n",
    "et = time.process_time()\n",
    "\n",
    "# get execution time\n",
    "res = et - st\n",
    "print('CPU Execution time:', res, 'seconds')"
   ]
  },
  {
   "cell_type": "code",
   "execution_count": 34,
   "id": "ca9e94c6",
   "metadata": {},
   "outputs": [
    {
     "name": "stdout",
     "output_type": "stream",
     "text": [
      "Skuteczność algorytmów: 0.9691\n"
     ]
    }
   ],
   "source": [
    "print(\"Skuteczność algorytmów:\",np.equal(np.array(y_dash),np.array(digits_label_test)).sum()/np.array(digits_label_test).shape[0])"
   ]
  }
 ],
 "metadata": {
  "kernelspec": {
   "display_name": "Python 3 (ipykernel)",
   "language": "python",
   "name": "python3"
  },
  "language_info": {
   "codemirror_mode": {
    "name": "ipython",
    "version": 3
   },
   "file_extension": ".py",
   "mimetype": "text/x-python",
   "name": "python",
   "nbconvert_exporter": "python",
   "pygments_lexer": "ipython3",
   "version": "3.10.0"
  }
 },
 "nbformat": 4,
 "nbformat_minor": 5
}

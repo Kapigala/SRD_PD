{
 "cells": [
  {
   "cell_type": "code",
   "execution_count": 1,
   "id": "43498919",
   "metadata": {},
   "outputs": [],
   "source": [
    "import random\n",
    "import matplotlib.pyplot as plt\n",
    "import numpy as np\n",
    "from sklearn.neighbors import KNeighborsClassifier"
   ]
  },
  {
   "cell_type": "code",
   "execution_count": 2,
   "id": "ceff72d5",
   "metadata": {},
   "outputs": [],
   "source": [
    "from mnist import MNIST\n",
    "\n",
    "mndata = MNIST(r\"C:\\Users\\Kacper\\sample\")\n",
    "\n",
    "digits, labels = mndata.load_training()\n",
    "digits_train=np.array(digits)\n",
    "digits_label_train=np.array(labels)\n",
    "digits_test,digits_label_test= mndata.load_testing()\n",
    "digits_test=np.array(digits_test)\n",
    "digits_label_test=np.array(digits_label_test)"
   ]
  },
  {
   "cell_type": "markdown",
   "id": "d22c8cec",
   "metadata": {},
   "source": [
    "## Zadaniedomowe\n",
    "–Przepiszkodmnist_1nn.jl do Pythona\n",
    "\n",
    "–Liczba punktów(można użyć maksymalnie 4 CPU):\n",
    "\n",
    "10 / czaswykonaniaprognozyw minutach"
   ]
  },
  {
   "cell_type": "markdown",
   "id": "60a63749",
   "metadata": {},
   "source": [
    "*Ustawienia procesorów nie były zmieniane w trakcie trwania eksperymentów*"
   ]
  },
  {
   "cell_type": "markdown",
   "id": "61913031",
   "metadata": {},
   "source": [
    "Tak przedstawia się czas wykorzystując julia (ustawienia procesorów nie były zmieniane w trakcie trwania eksperymentów)"
   ]
  },
  {
   "attachments": {
    "image.png": {
     "image/png": "[encoded data removed]"
    }
   },
   "cell_type": "markdown",
   "id": "6a9c0796",
   "metadata": {},
   "source": [
    "![image.png](attachment:image.png)"
   ]
  },
  {
   "cell_type": "markdown",
   "id": "beeed9a7",
   "metadata": {},
   "source": [
    "# Wariant 1 - dokładne odwzorowanie\n",
    "W pierwszym wariancie kod julia jest odwzorowany w pythonie (z zachowaniem założeń wątków)\n",
    "\n",
    "Obliczenia dla 1% docelowej liczby predykcji\n",
    "\n",
    "@Funkcja wyliczająca dystans wsparta numpy"
   ]
  },
  {
   "cell_type": "code",
   "execution_count": 39,
   "id": "f6067889",
   "metadata": {},
   "outputs": [],
   "source": [
    "def predict_1nn(img, train_images=digits_train, train_labels=digits_label_train):\n",
    "    best_img = -1\n",
    "    best_distance = float(\"inf\")    \n",
    "    for i,comparision in enumerate(train_images):\n",
    "        cur_distance = distance_value(img,comparision)\n",
    "        if cur_distance < best_distance:\n",
    "            best_distance = cur_distance\n",
    "            best_img = i\n",
    "    return train_labels[best_img]"
   ]
  },
  {
   "cell_type": "code",
   "execution_count": 8,
   "id": "54933230",
   "metadata": {},
   "outputs": [],
   "source": [
    "def distance_value(actual_img,compare_img):\n",
    "    return ((actual_img-compare_img)**2).sum()"
   ]
  },
  {
   "cell_type": "code",
   "execution_count": 36,
   "id": "e5ccc2c1",
   "metadata": {},
   "outputs": [
    {
     "name": "stdout",
     "output_type": "stream",
     "text": [
      "CPU Execution time: 44.6875 seconds\n"
     ]
    }
   ],
   "source": [
    "import time\n",
    "y_dash=[]\n",
    "# get the start time\n",
    "st = time.process_time()\n",
    "\n",
    "from concurrent.futures import ThreadPoolExecutor\n",
    "\n",
    "with ThreadPoolExecutor(max_workers=len(digits_test[0:100])) as executor:\n",
    "    for i in digits_test[0:100]:\n",
    "        executor.submit(y_dash.append(predict_1nn(i,digits_train,digits_label_train)), i)\n",
    "\n",
    "# wait for 1 second\n",
    "time.sleep(1)\n",
    "\n",
    "# get the end time\n",
    "et = time.process_time()\n",
    "\n",
    "# get execution time\n",
    "res = et - st\n",
    "print('CPU Execution time:', res, 'seconds')"
   ]
  },
  {
   "cell_type": "markdown",
   "id": "f35bc57e",
   "metadata": {},
   "source": [
    "# Wariant 1b - odwzorowanie bez wątków\n",
    "Ten sam wariant z pominięciem wątków\n",
    "\n",
    "Obliczenia dla 1% docelowej liczby predykcji"
   ]
  },
  {
   "cell_type": "code",
   "execution_count": 40,
   "id": "6cf7187e",
   "metadata": {},
   "outputs": [
    {
     "name": "stdout",
     "output_type": "stream",
     "text": [
      "CPU Execution time: 45.109375 seconds\n"
     ]
    }
   ],
   "source": [
    "import time\n",
    "\n",
    "# get the start time\n",
    "st = time.process_time()\n",
    "\n",
    "y_dash=[predict_1nn(i,digits_train,digits_label_train) for i in digits_test[0:100]]\n",
    "# wait for 1 second\n",
    "time.sleep(1)\n",
    "\n",
    "# get the end time\n",
    "et = time.process_time()\n",
    "\n",
    "# get execution time\n",
    "res = et - st\n",
    "print('CPU Execution time:', res, 'seconds')"
   ]
  },
  {
   "cell_type": "markdown",
   "id": "b8607fff",
   "metadata": {},
   "source": [
    "# Wariant 2 - szerokie zastosowanie numpy\n",
    "W tym wariancie mocno posiłkowano się możliwościami numpy (napisane w C)\n",
    "\n",
    "Kod osiąga to samo założenie, ale nie jest jednoznacznym \"przepisaniem\"\n",
    "\n",
    "Obliczenia dla 1% docelowej liczby predykcji\n",
    "\n",
    "Zastosowano mapowanie oraz pętle for"
   ]
  },
  {
   "cell_type": "code",
   "execution_count": 41,
   "id": "7fbbf2cd",
   "metadata": {},
   "outputs": [],
   "source": [
    "def t_predict_1nn(img,  train_images=digits_train, train_labels=digits_label_train):\n",
    "    return train_labels[np.argmin(np.sum(np.abs((train_images-img)),axis=1))]"
   ]
  },
  {
   "cell_type": "code",
   "execution_count": 43,
   "id": "a2fb15c6",
   "metadata": {},
   "outputs": [
    {
     "name": "stdout",
     "output_type": "stream",
     "text": [
      "map - CPU Execution time: 23.96875 seconds\n",
      "fot_loop - CPU Execution time: 24.390625 seconds\n"
     ]
    }
   ],
   "source": [
    "import time\n",
    "\n",
    "# get the start time\n",
    "st = time.process_time()\n",
    "\n",
    "y_dash= list(map(t_predict_1nn,digits_test[0:100,]))\n",
    "\n",
    "# wait for 3 seconds\n",
    "time.sleep(1)\n",
    "\n",
    "# get the end time\n",
    "et = time.process_time()\n",
    "\n",
    "st_2 = time.process_time()\n",
    "for i in range(100):\n",
    "    t_predict_1nn(digits_test[i],digits_train,digits_label_train),digits_label_test[i]\n",
    "et_2 = time.process_time()\n",
    "# get execution time\n",
    "res = et - st\n",
    "res2=et_2-st_2\n",
    "print('map - CPU Execution time:', res, 'seconds')\n",
    "print('fot_loop - CPU Execution time:', res2, 'seconds')"
   ]
  },
  {
   "cell_type": "markdown",
   "id": "6052b599",
   "metadata": {},
   "source": [
    "# Wariant 3 - zastosowanie ekwiwalentu - sklearn\n",
    "Ostatni eksperyment wykorzystuje gotowy algorytm zaimplementowany w pakiecie sklearn\n",
    "\n",
    "Obliczenia dla PEŁNEJ predykcji\n"
   ]
  },
  {
   "cell_type": "code",
   "execution_count": 49,
   "id": "4117b032",
   "metadata": {},
   "outputs": [
    {
     "name": "stdout",
     "output_type": "stream",
     "text": [
      "CPU Execution time: 67.90625 seconds\n"
     ]
    }
   ],
   "source": [
    "import time\n",
    "\n",
    "# get the start time\n",
    "st = time.process_time()\n",
    "\n",
    "neigh = KNeighborsClassifier(n_neighbors=1,algorithm=\"brute\")\n",
    "neigh.fit(digits_train,digits_label_train)\n",
    "y_dash= neigh.predict(digits_test)\n",
    "\n",
    "# wait for 3 seconds\n",
    "time.sleep(1)\n",
    "\n",
    "# get the end time\n",
    "et = time.process_time()\n",
    "\n",
    "# get execution time\n",
    "res = et - st\n",
    "print('CPU Execution time:', res, 'seconds')"
   ]
  },
  {
   "cell_type": "code",
   "execution_count": 47,
   "id": "ca9e94c6",
   "metadata": {},
   "outputs": [
    {
     "name": "stdout",
     "output_type": "stream",
     "text": [
      "Skuteczność algorytmów: 0.9691\n"
     ]
    }
   ],
   "source": [
    "print(\"Skuteczność algorytmów:\",np.equal(np.array(y_dash),np.array(digits_label_test)).sum()/np.array(digits_label_test).shape[0])"
   ]
  },
  {
   "cell_type": "markdown",
   "id": "0e597142",
   "metadata": {},
   "source": [
    "Przy założeniu miary CPU processing time (not wall clock time)\n",
    "\n",
    "|julia   |python(part numpy)   |python(full numpy)   |python(sklearn)   |python(pure)  |\n",
    "|---|---|---|---|---|\n",
    "| ~360s  | ~4400s  | ~2350s  | 67s  |  A LOT ∞  |\n"
   ]
  },
  {
   "cell_type": "code",
   "execution_count": null,
   "id": "72971156",
   "metadata": {},
   "outputs": [],
   "source": [
    "#python_time ~=  12*julia_time\n",
    "#julia_score_max = 2pkt\n",
    "#python_score_recode_max = 1/4 pkt\n",
    "#python_score_sklearn_max = 10pkt"
   ]
  },
  {
   "cell_type": "markdown",
   "id": "1a8d92a5",
   "metadata": {},
   "source": [
    "# Najlepszy uzyskany rezultat"
   ]
  },
  {
   "cell_type": "code",
   "execution_count": 22,
   "id": "c2aab955",
   "metadata": {},
   "outputs": [
    {
     "name": "stdout",
     "output_type": "stream",
     "text": [
      "Execution time: 29.432461977005005 seconds\n"
     ]
    }
   ],
   "source": [
    "st_normal = time.time()\n",
    "\n",
    "neigh = KNeighborsClassifier(n_neighbors=1,algorithm=\"brute\")\n",
    "neigh.fit(digits_train,digits_label_train)\n",
    "y_dash= neigh.predict(digits_test)\n",
    "\n",
    "# wait for 3 seconds\n",
    "time.sleep(3)\n",
    "\n",
    "\n",
    "# get the end time\n",
    "et_normal = time.time()\n",
    "\n",
    "# get the execution time\n",
    "elapsed_time = et_normal - st_normal\n",
    "print('Execution time:', elapsed_time, 'seconds')"
   ]
  }
 ],
 "metadata": {
  "kernelspec": {
   "display_name": "Python 3 (ipykernel)",
   "language": "python",
   "name": "python3"
  },
  "language_info": {
   "codemirror_mode": {
    "name": "ipython",
    "version": 3
   },
   "file_extension": ".py",
   "mimetype": "text/x-python",
   "name": "python",
   "nbconvert_exporter": "python",
   "pygments_lexer": "ipython3",
   "version": "3.10.0"
  }
 },
 "nbformat": 4,
 "nbformat_minor": 5
}

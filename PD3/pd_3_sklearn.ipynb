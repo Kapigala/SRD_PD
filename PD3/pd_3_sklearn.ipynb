{
 "cells": [
  {
   "cell_type": "code",
   "execution_count": 1,
   "id": "43498919",
   "metadata": {},
   "outputs": [],
   "source": [
    "import random\n",
    "import matplotlib.pyplot as plt\n",
    "import numpy as np\n",
    "from sklearn.neighbors import KNeighborsClassifier"
   ]
  },
  {
   "cell_type": "code",
   "execution_count": 2,
   "id": "ceff72d5",
   "metadata": {},
   "outputs": [],
   "source": [
    "from mnist import MNIST\n",
    "\n",
    "mndata = MNIST(r\"C:\\Users\\Kacper\\sample\")\n",
    "\n",
    "digits, labels = mndata.load_training()\n",
    "#images_2, labels_2 = mndata.load_testing()"
   ]
  },
  {
   "cell_type": "code",
   "execution_count": 3,
   "id": "1a7d5b6e",
   "metadata": {},
   "outputs": [],
   "source": [
    "digits_train=np.array(digits)\n",
    "digits_label_train=np.array(labels)\n",
    "digits_test,digits_label_test= mndata.load_testing()\n",
    "digits_test=np.array(digits_test)\n",
    "digits_label_test=np.array(digits_label_test)"
   ]
  },
  {
   "cell_type": "code",
   "execution_count": 4,
   "id": "bf40faa0",
   "metadata": {},
   "outputs": [
    {
     "data": {
      "image/png": "[encoded data removed]",
      "text/plain": [
       "<Figure size 640x480 with 1 Axes>"
      ]
     },
     "metadata": {},
     "output_type": "display_data"
    }
   ],
   "source": [
    "plt.imshow(digits_train[7].reshape(28,28));"
   ]
  },
  {
   "cell_type": "code",
   "execution_count": 5,
   "id": "799dcadb",
   "metadata": {},
   "outputs": [],
   "source": [
    "def t_predict_1nn(img,  train_images=digits_train, train_labels=digits_label_train):\n",
    "    #print((train_images-img)**2)\n",
    "    return train_labels[np.argmin(np.sum(np.abs((train_images-img)),axis=1))]\n",
    "    #return train_labels[np.argmin(((train_images-img)**2).sum())]"
   ]
  },
  {
   "cell_type": "code",
   "execution_count": null,
   "id": "114152a8",
   "metadata": {},
   "outputs": [],
   "source": [
    "#t_predict_1nn(digits_test[i],digits_train,digits_label_train)"
   ]
  },
  {
   "cell_type": "code",
   "execution_count": 7,
   "id": "f6067889",
   "metadata": {},
   "outputs": [],
   "source": [
    "def predict_1nn(img, train_images=digits_train, train_labels=digits_label_train):\n",
    "    best_img = -1\n",
    "    best_distance = float(\"inf\")    \n",
    "    for i,comparision in enumerate(train_images):\n",
    "        cur_distance = distance_value(img,comparision)\n",
    "        if cur_distance < best_distance:\n",
    "            best_distance = cur_distance\n",
    "            best_img = i\n",
    "    return train_labels[best_img]"
   ]
  },
  {
   "cell_type": "code",
   "execution_count": 8,
   "id": "54933230",
   "metadata": {},
   "outputs": [],
   "source": [
    "def distance_value(actual_img,compare_img):\n",
    "    return ((actual_img-compare_img)**2).sum()\n",
    "#**(1/(actual_img.size))  #only sum required"
   ]
  },
  {
   "cell_type": "code",
   "execution_count": 9,
   "id": "e5ccc2c1",
   "metadata": {},
   "outputs": [
    {
     "name": "stdout",
     "output_type": "stream",
     "text": [
      "CPU Execution time: 70.59375 seconds\n"
     ]
    }
   ],
   "source": [
    "import time\n",
    "\n",
    "# get the start time\n",
    "st = time.process_time()\n",
    "\n",
    "y_dash=[predict_1nn(i,digits_train,digits_label_train) for i in digits_test[0:100]]\n",
    "# wait for 3 seconds\n",
    "time.sleep(1)\n",
    "\n",
    "# get the end time\n",
    "et = time.process_time()\n",
    "\n",
    "# get execution time\n",
    "res = et - st\n",
    "print('CPU Execution time:', res, 'seconds')"
   ]
  },
  {
   "cell_type": "code",
   "execution_count": 18,
   "id": "4117b032",
   "metadata": {},
   "outputs": [
    {
     "name": "stdout",
     "output_type": "stream",
     "text": [
      "CPU Execution time: 68.703125 seconds\n"
     ]
    }
   ],
   "source": [
    "import time\n",
    "\n",
    "# get the start time\n",
    "st = time.process_time()\n",
    "\n",
    "neigh = KNeighborsClassifier(n_neighbors=1,algorithm=\"brute\")\n",
    "neigh.fit(digits_train,digits_label_train)\n",
    "y_dash= neigh.predict(digits_test)\n",
    "\n",
    "# wait for 3 seconds\n",
    "time.sleep(1)\n",
    "\n",
    "# get the end time\n",
    "et = time.process_time()\n",
    "\n",
    "# get execution time\n",
    "res = et - st\n",
    "print('CPU Execution time:', res, 'seconds')"
   ]
  },
  {
   "cell_type": "code",
   "execution_count": 21,
   "id": "79377683",
   "metadata": {},
   "outputs": [
    {
     "name": "stdout",
     "output_type": "stream",
     "text": [
      "CPU Execution time: 97.09375 seconds\n"
     ]
    }
   ],
   "source": [
    "import time\n",
    "\n",
    "# get the start time\n",
    "st = time.process_time()\n",
    "\n",
    "neigh = KNeighborsClassifier(n_neighbors=1,algorithm=\"brute\",n_jobs=-1)\n",
    "neigh.fit(digits_train,digits_label_train)\n",
    "y_dash= neigh.predict(digits_test)\n",
    "\n",
    "# wait for 3 seconds\n",
    "time.sleep(1)\n",
    "\n",
    "# get the end time\n",
    "et = time.process_time()\n",
    "\n",
    "# get execution time\n",
    "res = et - st\n",
    "print('CPU Execution time:', res, 'seconds')"
   ]
  },
  {
   "cell_type": "code",
   "execution_count": 11,
   "id": "ca9e94c6",
   "metadata": {},
   "outputs": [
    {
     "name": "stdout",
     "output_type": "stream",
     "text": [
      "0.9691\n"
     ]
    }
   ],
   "source": [
    "print(np.equal(np.array(y_dash),np.array(digits_label_test)).sum()/np.array(digits_label_test).shape[0])"
   ]
  },
  {
   "cell_type": "code",
   "execution_count": 20,
   "id": "70dd85a7",
   "metadata": {},
   "outputs": [
    {
     "name": "stdout",
     "output_type": "stream",
     "text": [
      "y_dash - CPU Execution time: 23.5 seconds\n",
      "NEW - CPU Execution time: 22.90625 seconds\n"
     ]
    }
   ],
   "source": [
    "import time\n",
    "\n",
    "# get the start time\n",
    "st = time.process_time()\n",
    "\n",
    "y_dash= list(map(t_predict_1nn,digits_test[0:100,]))\n",
    "\n",
    "# wait for 3 seconds\n",
    "time.sleep(1)\n",
    "\n",
    "# get the end time\n",
    "et = time.process_time()\n",
    "\n",
    "st_2 = time.process_time()\n",
    "for i in range(100):\n",
    "    t_predict_1nn(digits_test[i],digits_train,digits_label_train),digits_label_test[i]\n",
    "et_2 = time.process_time()\n",
    "# get execution time\n",
    "res = et - st\n",
    "res2=et_2-st_2\n",
    "print('y_dash - CPU Execution time:', res, 'seconds')\n",
    "print('NEW - CPU Execution time:', res2, 'seconds')"
   ]
  },
  {
   "cell_type": "code",
   "execution_count": null,
   "id": "541dbf71",
   "metadata": {},
   "outputs": [],
   "source": [
    "break\n",
    "#bonus try 1-shot\n",
    "\n",
    "#img=digits_test[1]\n",
    "#print(digits_test)\n",
    "\n",
    "\"\"\"\n",
    "exper=digits_test[0:20]\n",
    "print(exper.shape)\n",
    "digits_label_train[np.argmin(np.sum(np.abs((digits_train-img)),axis=1))]\n",
    "\"\"\"\n",
    "\n",
    "###\n",
    "#digits_label_train[[X]] #20x1\n",
    "# np.argmin(X,axis=1?)   #20x1\n",
    "#np.sum(X,axis=1) #20x6000\n",
    "#np.abs(X) #20x28^2x6000x28^2\n",
    "#digits_train-img   6000x28^2-20x28^2"
   ]
  },
  {
   "cell_type": "code",
   "execution_count": null,
   "id": "0687569b",
   "metadata": {},
   "outputs": [],
   "source": [
    "#julia(1-core) ~480 sec\n",
    "#python(numpy support) ~2200 sec\n",
    "#python(full C sklearn) ~102 sec\n",
    "#python(pure) A LOT sec\n",
    "\n",
    "#python_time ~=  4.6*julia_time\n",
    "#julia_score_4_score_max = 5pkt\n",
    "#python_score_recode_max = 1/2 pkt\n",
    "#python_score_sklearn_max = 20pkt"
   ]
  },
  {
   "cell_type": "code",
   "execution_count": 16,
   "id": "b0feb38f",
   "metadata": {},
   "outputs": [
    {
     "name": "stdout",
     "output_type": "stream",
     "text": [
      "Execution time: 48.870588064193726 seconds\n"
     ]
    }
   ],
   "source": [
    "st_normal = time.time()\n",
    "\n",
    "neigh = KNeighborsClassifier(n_neighbors=1,algorithm=\"brute\",n_jobs=-1)\n",
    "neigh.fit(digits_train,digits_label_train)\n",
    "y_dash= neigh.predict(digits_test)\n",
    "\n",
    "# wait for 3 seconds\n",
    "time.sleep(3)\n",
    "\n",
    "\n",
    "# get the end time\n",
    "et_normal = time.time()\n",
    "\n",
    "# get the execution time\n",
    "elapsed_time = et_normal - st_normal\n",
    "print('Execution time:', elapsed_time, 'seconds')"
   ]
  },
  {
   "cell_type": "code",
   "execution_count": 22,
   "id": "1176a72b",
   "metadata": {},
   "outputs": [
    {
     "name": "stdout",
     "output_type": "stream",
     "text": [
      "Execution time: 29.432461977005005 seconds\n"
     ]
    }
   ],
   "source": [
    "st_normal = time.time()\n",
    "\n",
    "neigh = KNeighborsClassifier(n_neighbors=1,algorithm=\"brute\")\n",
    "neigh.fit(digits_train,digits_label_train)\n",
    "y_dash= neigh.predict(digits_test)\n",
    "\n",
    "# wait for 3 seconds\n",
    "time.sleep(3)\n",
    "\n",
    "\n",
    "# get the end time\n",
    "et_normal = time.time()\n",
    "\n",
    "# get the execution time\n",
    "elapsed_time = et_normal - st_normal\n",
    "print('Execution time:', elapsed_time, 'seconds')"
   ]
  },
  {
   "cell_type": "code",
   "execution_count": null,
   "id": "a1e7a9ef",
   "metadata": {},
   "outputs": [],
   "source": []
  }
 ],
 "metadata": {
  "kernelspec": {
   "display_name": "Python 3 (ipykernel)",
   "language": "python",
   "name": "python3"
  },
  "language_info": {
   "codemirror_mode": {
    "name": "ipython",
    "version": 3
   },
   "file_extension": ".py",
   "mimetype": "text/x-python",
   "name": "python",
   "nbconvert_exporter": "python",
   "pygments_lexer": "ipython3",
   "version": "3.10.0"
  }
 },
 "nbformat": 4,
 "nbformat_minor": 5
}

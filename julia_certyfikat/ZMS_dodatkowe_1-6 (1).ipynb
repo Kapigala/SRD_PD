{
 "cells": [
  {
   "cell_type": "markdown",
   "metadata": {},
   "source": [
    "## Zadanie 1.\n",
    "\n",
    "Napisz program, który wyszukuje największy wspólny dzielnik dwóch liczb $a$ i $b$. \n",
    "\n",
    "*Wskazówka*: warto w tym przypadku zastosować rekurencję."
   ]
  },
  {
   "cell_type": "code",
   "execution_count": 1,
   "metadata": {},
   "outputs": [
    {
     "name": "stdout",
     "output_type": "stream",
     "text": [
      "[2, 109] - NWD 1\n",
      "[119, 6] - NWD 1\n",
      "[82, 140] - NWD 2\n",
      "[13, 97] - NWD 1\n",
      "[100, 73] - NWD 1\n",
      "[14, 183] - NWD 1\n",
      "[192, 26] - NWD 2\n",
      "[127, 164] - NWD 1\n",
      "[160, 176] - NWD 16\n",
      "[160, 36] - NWD 4\n",
      "[150, 120] - NWD 30\n",
      "[41, 199] - NWD 1\n",
      "[59, 39] - NWD 1\n",
      "[82, 149] - NWD 1\n",
      "[109, 129] - NWD 1\n",
      "[103, 13] - NWD 1\n",
      "[77, 32] - NWD 1\n",
      "[73, 116] - NWD 1\n",
      "[146, 7] - NWD 1\n",
      "[99, 1] - NWD 1\n",
      "[77, 144] - NWD 1\n",
      "[98, 162] - NWD 2\n",
      "[175, 168] - NWD 7\n",
      "[183, 181] - NWD 1\n",
      "[145, 52] - NWD 1\n",
      "[140, 150] - NWD 10\n",
      "[75, 27] - NWD 3\n",
      "[38, 84] - NWD 2\n",
      "[81, 120] - NWD 3\n",
      "[74, 20] - NWD 2\n",
      "[7, 136] - NWD 1\n",
      "[109, 3] - NWD 1\n",
      "[160, 99] - NWD 1\n",
      "[134, 5] - NWD 1\n",
      "[79, 114] - NWD 1\n",
      "[5, 147] - NWD 1\n",
      "[78, 192] - NWD 6\n",
      "[110, 189] - NWD 1\n",
      "[58, 1] - NWD 1\n",
      "[36, 7] - NWD 1\n",
      "[197, 106] - NWD 1\n",
      "[109, 123] - NWD 1\n",
      "[52, 44] - NWD 4\n",
      "[79, 130] - NWD 1\n",
      "[87, 57] - NWD 3\n",
      "[92, 179] - NWD 1\n",
      "[94, 189] - NWD 1\n",
      "[69, 17] - NWD 1\n",
      "[3, 5] - NWD 1\n",
      "[159, 76] - NWD 1\n"
     ]
    }
   ],
   "source": [
    "using Random\n",
    "Random.seed!(116772)\n",
    "# Do rozwiązania zadania zastosowany zostanie algorytm Euklidesa \n",
    "function NWD(x,y)\n",
    "    a = max(x,y)\n",
    "    b = min(x,y)\n",
    "while b ≠ 0\n",
    "    r = mod(a,b)\n",
    "    a = b\n",
    "    b = r\n",
    "end\n",
    "a\n",
    "end\n",
    "\n",
    "#TEST\n",
    "for i in 1:50\n",
    "liczby=rand(1:200,2)\n",
    "print(liczby,\" - NWD \")\n",
    "println(NWD(liczby[1],liczby[2]))\n",
    "end"
   ]
  },
  {
   "cell_type": "markdown",
   "metadata": {},
   "source": [
    "## Zadanie 2.\n",
    "    \n",
    "Napisz funkcję, która dla dowolnego ciągu znaków sprawdzi czy jest on [palindromem](https://pl.wikipedia.org/wiki/Palindrom)."
   ]
  },
  {
   "cell_type": "code",
   "execution_count": 2,
   "metadata": {},
   "outputs": [
    {
     "name": "stdout",
     "output_type": "stream",
     "text": [
      "kajak to palindrom\n",
      "maslo to nie palindrom\n",
      "drewno to nie palindrom\n",
      "anna to palindrom\n",
      "arbuz to nie palindrom\n",
      "sedes to palindrom\n",
      "kobyla ma maly bok to nie palindrom\n",
      "kobylamamalybok to palindrom\n"
     ]
    }
   ],
   "source": [
    "function palindrom(slowo ::String)\n",
    "    len = length(slowo)\n",
    "    for i in 1:(len/2)\n",
    "        if(slowo[Int(len-i+1)] != slowo[Int(i)])\n",
    "            println(slowo,\" to nie palindrom\")\n",
    "            return false\n",
    "        end\n",
    "    end\n",
    "    println(slowo,\" to palindrom\")\n",
    "    return true\n",
    "end\n",
    "\n",
    "#TEST\n",
    "lista_słów=[\"kajak\",\"maslo\",\"drewno\",\"anna\",\"arbuz\",\"sedes\",\"kobyla ma maly bok\",\"kobylamamalybok\"]\n",
    "for słowo in lista_słów\n",
    "    palindrom(słowo)\n",
    "end"
   ]
  },
  {
   "cell_type": "markdown",
   "metadata": {},
   "source": [
    "## Zadanie 3.\n",
    "Napisz kod, który dla dowolnego $x \\in R$ wyliczy wartość funkcji:\n",
    "$f(x) = \\sum_{k=-\\infty}^{\\infty}2^k d^2(x/2^k) $\n",
    "\n",
    "gdzie $d$ jest odległością do najbliższej liczby całkowitej."
   ]
  },
  {
   "cell_type": "code",
   "execution_count": 3,
   "metadata": {},
   "outputs": [
    {
     "name": "stdout",
     "output_type": "stream",
     "text": [
      "8.14\n"
     ]
    }
   ],
   "source": [
    "#Przy odpowiednim podejściu analitycznym można\n",
    "#ograniczyć sumę od determinowanej przez x wartości do postaci szeregu.\n",
    "#Formuła dla liczb ujemnych jest trudna do wyznaczenia analitycznie dlatego\n",
    "#zastosowano przybliżenie poprzez ograniczenie zakresu do -1000\n",
    "function f(x ::Float64)\n",
    "sum=0\n",
    "z=ceil(log2(2x))\n",
    "for k in -1000:(z-1)\n",
    "    t=2.0^k\n",
    "    sum += t*(abs((x/t)-round(x/t)))^2\n",
    "    end\n",
    "    w = sum + (x^2)*(2.0^(1-z))\n",
    "return w\n",
    "end\n",
    "\n",
    "println(f(8.14))\n",
    "\n",
    "#suma dla tej funkcji osiąga wartość jej argumentu"
   ]
  },
  {
   "cell_type": "markdown",
   "metadata": {},
   "source": [
    "## Zadanie 4.\n",
    "\n",
    "Zaimplementuj w języku Python algorytm [sita Eratostenesa](https://pl.wikipedia.org/wiki/Sito_Eratostenesa), który zwróci w formie listy wszystkie liczby pierwsze z przedziału $[2,n]$."
   ]
  },
  {
   "cell_type": "code",
   "execution_count": 4,
   "metadata": {},
   "outputs": [
    {
     "data": {
      "text/plain": [
       "1-element Vector{Vector{Any}}:\n",
       " [2, 3, 5, 7, 11, 13, 17, 19, 23, 29, 31, 37, 41, 43, 47]"
      ]
     },
     "execution_count": 4,
     "metadata": {},
     "output_type": "execute_result"
    }
   ],
   "source": [
    "function sito(n :: Int)\n",
    "    a=[i for i in 2:n]\n",
    "    i=0\n",
    "    odp=[]\n",
    "    while i < n^(1/2)\n",
    "        push!(odp,a[1])\n",
    "        i = a[1]\n",
    "        deleteat!(a, findall(x->x % a[1] == 0, a))\n",
    "\n",
    "    end\n",
    "append!(odp,a)\n",
    "return [odp]\n",
    "end\n",
    "\n",
    "sito(50)"
   ]
  },
  {
   "cell_type": "markdown",
   "metadata": {},
   "source": [
    "## Zadanie 5.\n",
    "\n",
    "Napisz funkcję, która zaszyfruje dowolny ciąg znaków za pomocą prostego szyfru [ROT13](https://en.wikipedia.org/wiki/ROT13). Dla uproszczenia przyjmij, że szyfrowaniu podlegają jedynie litery alfabetu łacińskiego.\n",
    "\n",
    "Dodatkowo, możesz rozbudować program do formy, w której szyfruje on ciąg znaków dla dowolnego [szyfru Cezara](https://pl.wikipedia.org/wiki/Szyfr_Cezara), gdzie przesunięcie znaków jest zadanym przez użytkownika parametrem."
   ]
  },
  {
   "cell_type": "code",
   "execution_count": 48,
   "metadata": {},
   "outputs": [
    {
     "name": "stdout",
     "output_type": "stream",
     "text": [
      "poprawna odpowiedź: oyn bla\n",
      "odpowiedź programu: oyn bla\n"
     ]
    }
   ],
   "source": [
    "#Rot13 dla małych liter\n",
    "function rot13(t)\n",
    "angielski_list=Dict('a' =>'n' ,'b'=>'o','c'=>'p','d'=>'q','e'=>'r','f'=>'s','g'=>'t','h'=>'u',\n",
    "        'i'=>'v','j'=>'w','k'=>'x','l'=>'y','m'=>'z'\n",
    "        ,'n'=>'a','o'=>'b','p'=>'c','q'=>'d','r'=>'e','s'=>'f','t'=>'g','u'=>'h','v'=>'i','w'=>'j'\n",
    "        ,'x'=>'k','y'=>'l','z'=>'m',' '=>' ','_'=>'_')\n",
    "w=[]\n",
    "    for i in t\n",
    "    angielski_list[i]\n",
    "    push!(w,angielski_list[i])\n",
    "    end\n",
    "return join(w)\n",
    "end\n",
    "\n",
    "#Test\n",
    "słowo_odp=\"oyn bla\"\n",
    "println(\"poprawna odpowiedź: \",słowo_odp)\n",
    "println(\"odpowiedź programu: \", rot13(\"bla oyn\"))"
   ]
  },
  {
   "cell_type": "markdown",
   "metadata": {},
   "source": [
    "## Zadanie 6.\n",
    "    \n",
    "Napisz kod, który wyliczy liczbę $\\pi$ korzystając z [metody Monte Carlo](https://en.wikipedia.org/wiki/Monte_Carlo_method). Jako parametr wejściowy przyjmij $n$, oznaczające liczbę losowanych punktów. Przedstaw na wykresie błąd względny wyliczenia $\\pi$ w porównaniu z wbudowaną stałą <tt>pi</tt> dla wartości $n \\in [100,500,1000,1500,2000, \\dots,10000]$"
   ]
  },
  {
   "cell_type": "markdown",
   "metadata": {},
   "source": [
    "Założenia metody monte carlo:\n",
    "Określamy przestrzeń dwuwymiarową x,y z przedziału [0,1]  (układ kartezjański)\n",
    "Ustalamy koordynaty koła wpisanego w powstały kwadrat (środek okręgu S(0.5,0.5))\n",
    "Stusunek koła do kwadratu wewnątrz którego jest wpisany \n",
    "jest stały dla dowolnej długości boku a kwadratu Pₖ / Pₛ = \n",
    "\n",
    "0.25*πa²/a² stąd Pk/Ps= π/4 \n",
    "\n",
    "#π=4*Pk/Ps\n",
    "\n",
    "Gdyby losować kolejne punkty wewnątrz tej przestrzeni stopniowo ją zapełniając \n",
    "(przyjmując, że jest to możliwe) dla nieskończonej liczby punktów stosunek pól byłby równy stosunkowi\n",
    "punktów zawierających się w kole do wszyskich wylosowanych. W oparciu o to rozumowanie można\n",
    "wyznaczyć przybliżenie liczby π."
   ]
  },
  {
   "cell_type": "code",
   "execution_count": 6,
   "metadata": {},
   "outputs": [],
   "source": [
    "using Random\n",
    "Random.seed!(116772)\n",
    "function Montecarlo(n)\n",
    "    koord= rand(n,2)\n",
    "    inside=0\n",
    "    for i in 1:n\n",
    "        if ((koord[i,1]-0.5)^2+(koord[i,2]-0.5)^2)^(0.5)<0.5\n",
    "        inside += 1\n",
    "        end\n",
    "    end\n",
    "return [n (π-(4*inside/n))/π]\n",
    "end\n",
    "\n",
    "aprox_list = Montecarlo(100)\n",
    "\n",
    "for z in 500:500:10000\n",
    "    aprox_list=[aprox_list ; Montecarlo(z)]\n",
    "\n",
    "end\n",
    "#print(aprox_list)"
   ]
  },
  {
   "cell_type": "code",
   "execution_count": 7,
   "metadata": {},
   "outputs": [
    {
     "data": {
      "image/png": "[encoded data removed]",
      "text/plain": [
       "Figure(PyObject <Figure size 640x480 with 1 Axes>)"
      ]
     },
     "metadata": {},
     "output_type": "display_data"
    },
    {
     "name": "stderr",
     "output_type": "stream",
     "text": [
      "sys:1: UserWarning: Matplotlib is currently using agg, which is a non-GUI backend, so cannot show the figure.\r\n"
     ]
    }
   ],
   "source": [
    "using PyPlot\n",
    "plot(aprox_list[:,1],aprox_list[:,2])\n",
    "show()"
   ]
  },
  {
   "cell_type": "markdown",
   "metadata": {},
   "source": [
    "## Zadanie 7. (dodatkowe)\n",
    "\n",
    "Rozwiąż problem #96 dostepny na stronie [project Euler](https://projecteuler.net/problem=96)"
   ]
  },
  {
   "cell_type": "markdown",
   "metadata": {},
   "source": []
  }
 ],
 "metadata": {
  "kernelspec": {
   "display_name": "Julia 1.7.2",
   "language": "julia",
   "name": "julia-1.7"
  },
  "language_info": {
   "file_extension": ".jl",
   "mimetype": "application/julia",
   "name": "julia",
   "version": "1.7.2"
  }
 },
 "nbformat": 4,
 "nbformat_minor": 2
}

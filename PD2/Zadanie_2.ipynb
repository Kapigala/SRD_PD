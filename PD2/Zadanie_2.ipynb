{
 "cells": [
  {
   "cell_type": "code",
   "execution_count": 1,
   "id": "3b01c6a4",
   "metadata": {},
   "outputs": [],
   "source": [
    "import numpy as np\n",
    "import statistics as stat\n",
    "import pandas as pd"
   ]
  },
  {
   "cell_type": "code",
   "execution_count": 2,
   "id": "cf05ac9d",
   "metadata": {},
   "outputs": [],
   "source": [
    "def test(mi):\n",
    "    result= np.array([m + 3* np.random.randn() for m in mi])\n",
    "    est1 = result\n",
    "    mi0 = 20 * np.ones(len(mi))\n",
    "    est2= mi0 + max((1-1/sum((result-mi0)**2)),0) * (result-mi0)\n",
    "    return np.array([stat.mean((est1-mi)**2),stat.mean((est2-mi)**2)]).reshape(1,2)"
   ]
  },
  {
   "cell_type": "code",
   "execution_count": 12,
   "id": "53bdae35",
   "metadata": {},
   "outputs": [],
   "source": [
    "experiment=np.empty([1,2])\n",
    "for i in range(10*6):\n",
    "    experiment=np.concatenate((experiment,test([16,18,26])))"
   ]
  },
  {
   "cell_type": "code",
   "execution_count": 19,
   "id": "658671d8",
   "metadata": {},
   "outputs": [
    {
     "data": {
      "text/html": [
       "<div>\n",
       "<style scoped>\n",
       "    .dataframe tbody tr th:only-of-type {\n",
       "        vertical-align: middle;\n",
       "    }\n",
       "\n",
       "    .dataframe tbody tr th {\n",
       "        vertical-align: top;\n",
       "    }\n",
       "\n",
       "    .dataframe thead th {\n",
       "        text-align: right;\n",
       "    }\n",
       "</style>\n",
       "<table border=\"1\" class=\"dataframe\">\n",
       "  <thead>\n",
       "    <tr style=\"text-align: right;\">\n",
       "      <th></th>\n",
       "      <th>MSE1</th>\n",
       "      <th>MSE2</th>\n",
       "    </tr>\n",
       "  </thead>\n",
       "  <tbody>\n",
       "    <tr>\n",
       "      <th>mean</th>\n",
       "      <td>9.1656</td>\n",
       "      <td>9.0690</td>\n",
       "    </tr>\n",
       "    <tr>\n",
       "      <th>std</th>\n",
       "      <td>7.5828</td>\n",
       "      <td>7.4725</td>\n",
       "    </tr>\n",
       "    <tr>\n",
       "      <th>min</th>\n",
       "      <td>0.0000</td>\n",
       "      <td>0.0000</td>\n",
       "    </tr>\n",
       "    <tr>\n",
       "      <th>25%</th>\n",
       "      <td>4.4003</td>\n",
       "      <td>4.2322</td>\n",
       "    </tr>\n",
       "    <tr>\n",
       "      <th>50%</th>\n",
       "      <td>7.6361</td>\n",
       "      <td>7.5250</td>\n",
       "    </tr>\n",
       "    <tr>\n",
       "      <th>75%</th>\n",
       "      <td>12.4930</td>\n",
       "      <td>12.2781</td>\n",
       "    </tr>\n",
       "  </tbody>\n",
       "</table>\n",
       "</div>"
      ],
      "text/plain": [
       "         MSE1     MSE2\n",
       "mean   9.1656   9.0690\n",
       "std    7.5828   7.4725\n",
       "min    0.0000   0.0000\n",
       "25%    4.4003   4.2322\n",
       "50%    7.6361   7.5250\n",
       "75%   12.4930  12.2781"
      ]
     },
     "metadata": {},
     "output_type": "display_data"
    }
   ],
   "source": [
    "df_describe = pd.DataFrame(experiment,columns=[\"MSE1\",\"MSE2\"])\n",
    "display(df_describe.describe().loc[['mean','std',\"min\",'25%','50%','75%']].astype(\"float64\").round(4))"
   ]
  }
 ],
 "metadata": {
  "kernelspec": {
   "display_name": "Python 3 (ipykernel)",
   "language": "python",
   "name": "python3"
  },
  "language_info": {
   "codemirror_mode": {
    "name": "ipython",
    "version": 3
   },
   "file_extension": ".py",
   "mimetype": "text/x-python",
   "name": "python",
   "nbconvert_exporter": "python",
   "pygments_lexer": "ipython3",
   "version": "3.10.0"
  }
 },
 "nbformat": 4,
 "nbformat_minor": 5
}

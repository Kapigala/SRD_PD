{
 "cells": [
  {
   "cell_type": "code",
   "execution_count": 1,
   "id": "11a4d96b",
   "metadata": {},
   "outputs": [
    {
     "name": "stdout",
     "output_type": "stream",
     "text": [
      "[5248, 1312, 2624, 5760, 3936]\n",
      "[640, 1888, 3776, 3776, 5664]\n",
      "Suma A: 18880 Suma B: 15744\n"
     ]
    }
   ],
   "source": [
    "import numpy as np\n",
    "import itertools  \n",
    "import pandas as pd\n",
    "full_values = [(5248, 640),\n",
    "                   (1312, 1888),\n",
    "                   (2624, 3776),\n",
    "                   (5760, 3776),\n",
    "                   (3936, 5664)] #list of elements\n",
    "A=[el[0] for el in full_values]\n",
    "print(A)\n",
    "B=[el[1] for el in full_values]\n",
    "print(B)\n",
    "print(\"Suma A:\",sum([el[0] for el in full_values]),\"Suma B:\",sum([el[1] for el in full_values]))"
   ]
  },
  {
   "cell_type": "code",
   "execution_count": 2,
   "id": "e4a20e4a",
   "metadata": {},
   "outputs": [],
   "source": [
    "def m_value(A,B,i):\n",
    "    x1=[a for a in range(1,A[i]+1)]   #all possible x (errors in \"A\")\n",
    "    y1=[b for b in range(1,B[i]+1)] #all possible y (errors in \"B\")\n",
    "    c = list(itertools.product(x1, y1))\n",
    "    df_t=pd.DataFrame(c,columns=[\"Xi\",\"Yi\"])\n",
    "    df_t[\"m\"]=np.array([A[i]/B[i]*v[1]/v[0] for v in c ]) #all pairs x,y  and m ratio \n",
    "    return df_t"
   ]
  },
  {
   "cell_type": "code",
   "execution_count": 3,
   "id": "772055f4",
   "metadata": {},
   "outputs": [],
   "source": [
    "# 5 groups of xi,yi pairs where m>1 \n",
    "ll=[m_value(A,B,i) for i in range(0,5)]\n",
    "for i in range(0,len(ll)):\n",
    "    ll[i]=ll[i][ll[i][\"m\"]>1] #according to Project_Euler\n",
    "# consired only m appearing in all 5 groups\n",
    "m_candidates=ll[0][(ll[0][\"m\"].isin(ll[1][\"m\"].unique())) & (ll[0][\"m\"].isin(ll[2][\"m\"].unique())) \n",
    "                   & (ll[0][\"m\"].isin(ll[3][\"m\"].unique()) \n",
    "                    & (ll[0][\"m\"].isin(ll[4][\"m\"].unique())))][\"m\"]"
   ]
  },
  {
   "cell_type": "code",
   "execution_count": null,
   "id": "34fe3612",
   "metadata": {},
   "outputs": [],
   "source": [
    "# code to find all 35 values (it takes long to execute):\n",
    "ANS=[]\n",
    "for num,m in enumerate(sorted(m_candidates.unique(),reverse=True)):  #możliwe m we wszsytkich\n",
    "    print(f\"TEST dla {m}, #{num+1}/{m_candidates.unique().shape[0]}\")\n",
    "    \n",
    "    aa= ll[0][(ll[0][\"m\"]==m)][\"Yi\"].unique()\n",
    "    bb= ll[1][(ll[1][\"m\"]==m)][\"Yi\"].unique()\n",
    "    cc= ll[2][(ll[2][\"m\"]==m)][\"Yi\"].unique()\n",
    "    dd= ll[3][(ll[3][\"m\"]==m)][\"Yi\"].unique()\n",
    "    ee= ll[4][(ll[4][\"m\"]==m)][\"Yi\"].unique()\n",
    "\n",
    "    test_value = np.array(list(itertools.product(aa,bb,cc,dd,ee)))\n",
    "    print(len(test_value))\n",
    "    arr=np.sqrt(np.dot(test_value,(np.array(A)/np.array(B)))/(test_value.sum(axis=1)))\n",
    "    if arr[arr==m].sum()>0:\n",
    "        for rozw in list(test_value[arr==m]):\n",
    "                print(f\"{m} for set {tuple(rozw)}\")\n",
    "                ANS.append((m,tuple(rozw)))  \n",
    "print(ANS)"
   ]
  },
  {
   "cell_type": "markdown",
   "id": "67803bc0",
   "metadata": {},
   "source": [
    "Pełne przejście kodu przy dostepnych zasobach trwałoby bardzo długo. Poniżej załączony zostaje\n",
    "wycinek z pierwszą poprawną wartością m => 81/944. W ten sam sposób można odnaleźć pozostałe 34; \n",
    "jest to kwestia przejrzenia całej (skończonej) przestrzeni rozwiązań."
   ]
  },
  {
   "attachments": {
    "euler2.PNG": {
     "image/png": "[encoded data removed]"
    }
   },
   "cell_type": "markdown",
   "id": "0289767b",
   "metadata": {},
   "source": [
    "![euler2.PNG](attachment:euler2.PNG)"
   ]
  },
  {
   "cell_type": "code",
   "execution_count": null,
   "id": "7a4f2b37",
   "metadata": {},
   "outputs": [],
   "source": []
  }
 ],
 "metadata": {
  "kernelspec": {
   "display_name": "Python 3 (ipykernel)",
   "language": "python",
   "name": "python3"
  },
  "language_info": {
   "codemirror_mode": {
    "name": "ipython",
    "version": 3
   },
   "file_extension": ".py",
   "mimetype": "text/x-python",
   "name": "python",
   "nbconvert_exporter": "python",
   "pygments_lexer": "ipython3",
   "version": "3.10.0"
  }
 },
 "nbformat": 4,
 "nbformat_minor": 5
}
